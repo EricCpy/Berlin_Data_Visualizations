{
 "cells": [
  {
   "cell_type": "code",
   "execution_count": 40,
   "metadata": {},
   "outputs": [],
   "source": [
    "from germansentiment import SentimentModel\n",
    "import pandas as pd"
   ]
  },
  {
   "cell_type": "code",
   "execution_count": 41,
   "metadata": {},
   "outputs": [
    {
     "name": "stdout",
     "output_type": "stream",
     "text": [
      "<class 'pandas.core.frame.DataFrame'>\n",
      "RangeIndex: 13362 entries, 0 to 13361\n",
      "Data columns (total 18 columns):\n",
      " #   Column                          Non-Null Count  Dtype  \n",
      "---  ------                          --------------  -----  \n",
      " 0   id                              13362 non-null  int64  \n",
      " 1   name                            13362 non-null  object \n",
      " 2   host_id                         13362 non-null  int64  \n",
      " 3   host_name                       13353 non-null  object \n",
      " 4   neighbourhood_group             13362 non-null  object \n",
      " 5   neighbourhood                   13362 non-null  object \n",
      " 6   latitude                        13362 non-null  float64\n",
      " 7   longitude                       13362 non-null  float64\n",
      " 8   room_type                       13362 non-null  object \n",
      " 9   price                           8400 non-null   float64\n",
      " 10  minimum_nights                  13362 non-null  int64  \n",
      " 11  number_of_reviews               13362 non-null  int64  \n",
      " 12  last_review                     10228 non-null  object \n",
      " 13  reviews_per_month               10228 non-null  float64\n",
      " 14  calculated_host_listings_count  13362 non-null  int64  \n",
      " 15  availability_365                13362 non-null  int64  \n",
      " 16  number_of_reviews_ltm           13362 non-null  int64  \n",
      " 17  license                         8397 non-null   object \n",
      "dtypes: float64(4), int64(7), object(7)\n",
      "memory usage: 1.8+ MB\n"
     ]
    }
   ],
   "source": [
    "df_airbnb = pd.read_csv('../data/airbnb/March_2024/listings.csv')\n",
    "df_airbnb.info()"
   ]
  },
  {
   "cell_type": "code",
   "execution_count": 42,
   "metadata": {},
   "outputs": [],
   "source": [
    "model = SentimentModel()\n",
    "\n",
    "def predict_sentiments(text):\n",
    "    classes, probabilities = model.predict_sentiment([text], output_probabilities = True)\n",
    "    return pd.Series({\n",
    "        'sentiment': classes[0], \n",
    "        'positive_sentiment': probabilities[0][0][1], \n",
    "        'negative_sentiment': probabilities[0][1][1], \n",
    "        'neutral_sentiment': probabilities[0][2][1]\n",
    "    })"
   ]
  },
  {
   "cell_type": "code",
   "execution_count": 43,
   "metadata": {},
   "outputs": [],
   "source": [
    "df_airbnb[['sentiment', 'positive_sentiment', 'negative_sentiment', 'neutral_sentiment']] = df_airbnb['name'].apply(predict_sentiments)"
   ]
  },
  {
   "cell_type": "code",
   "execution_count": 45,
   "metadata": {},
   "outputs": [],
   "source": [
    "df_airbnb[['id', 'sentiment', 'positive_sentiment', 'negative_sentiment', 'neutral_sentiment']].to_csv(\"../data/airbnb/March_2024/sentiments.csv\", index=False)"
   ]
  }
 ],
 "metadata": {
  "kernelspec": {
   "display_name": ".venv",
   "language": "python",
   "name": "python3"
  },
  "language_info": {
   "codemirror_mode": {
    "name": "ipython",
    "version": 3
   },
   "file_extension": ".py",
   "mimetype": "text/x-python",
   "name": "python",
   "nbconvert_exporter": "python",
   "pygments_lexer": "ipython3",
   "version": "3.11.3"
  }
 },
 "nbformat": 4,
 "nbformat_minor": 2
}
