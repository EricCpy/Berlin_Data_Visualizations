{
 "cells": [
  {
   "cell_type": "code",
   "execution_count": 2,
   "metadata": {},
   "outputs": [],
   "source": [
    "from ftlangdetect import detect\n",
    "from germansentiment import SentimentModel\n",
    "import pandas as pd\n",
    "import swifter\n",
    "import nltk\n",
    "from nltk.sentiment.vader import SentimentIntensityAnalyzer\n",
    "\n",
    "nltk.download('vader_lexicon')"
   ]
  },
  {
   "cell_type": "code",
   "execution_count": 2,
   "metadata": {},
   "outputs": [],
   "source": [
    "model = SentimentModel()\n",
    "sia = SentimentIntensityAnalyzer()\n",
    "\n",
    "def predict_sentiments(row):\n",
    "    if 'language' not in row or row['language'] =='de':\n",
    "        classes, probabilities = model.predict_sentiment([row['comments']], output_probabilities = True)\n",
    "        return pd.Series({\n",
    "            'sentiment': classes[0], \n",
    "            'positive_sentiment': probabilities[0][0][1], \n",
    "            'negative_sentiment': probabilities[0][1][1], \n",
    "            'neutral_sentiment': probabilities[0][2][1]\n",
    "        })\n",
    "    else:\n",
    "        sentiments = sia.polarity_scores(row['comments'])\n",
    "        sentiment_label = max(sentiments, key=lambda x: sentiments[x] if x in ['pos', 'neg', 'neu'] else -1)\n",
    "        sentiment_map = {'pos': 'positive', 'neg': 'negative', 'neu': 'neutral'}\n",
    "\n",
    "        return pd.Series({\n",
    "            'sentiment': sentiment_map[sentiment_label], \n",
    "            'positive_sentiment': sentiments['pos'], \n",
    "            'negative_sentiment': sentiments['neg'], \n",
    "            'neutral_sentiment': sentiments['neu']\n",
    "        }) \n",
    "    \n",
    "def detect_language(text):\n",
    "    try:\n",
    "        result = detect(text=text, low_memory=False)\n",
    "        return result['lang']\n",
    "    except Exception as e:\n",
    "        return None\n",
    "\n",
    "\n",
    "## unused\n",
    "#def translate(text, source_language, target_language):\n",
    "#    try:\n",
    "#        model_name = f'Helsinki-NLP/opus-mt-{source_language}-{target_language}'\n",
    "#        tokenizer = MarianTokenizer.from_pretrained(model_name)\n",
    "#        model = MarianMTModel.from_pretrained(model_name)\n",
    "#\n",
    "#        inputs = tokenizer.encode(text, return_tensors=\"pt\")\n",
    "#        outputs = model.generate(inputs, num_beams=4, max_length=50, early_stopping=True)\n",
    "#        translated_text = tokenizer.decode(outputs[0], skip_special_tokens=True)\n",
    "#\n",
    "#        return translated_text\n",
    "#    except:\n",
    "#        print(f'Helsinki-NLP/opus-mt-{source_language}-{target_language} doesnt exist')\n",
    "#        return GoogleTranslator(source='auto', target=target_language).translate(text)\n",
    "#\n",
    "#def translate_row(row):\n",
    "#    if row['language'] == 'en' or row['language'] == 'de':\n",
    "#        return row['comments']\n",
    "#    return translate(row['comments'], row['language'], 'en')    \n",
    "#"
   ]
  },
  {
   "cell_type": "code",
   "execution_count": 11,
   "metadata": {},
   "outputs": [
    {
     "data": {
      "text/plain": [
       "(['negative', 'negative', 'neutral', 'positive'],\n",
       " [[['positive', 0.126670241355896],\n",
       "   ['negative', 0.8723633289337158],\n",
       "   ['neutral', 0.0009664089884608984]],\n",
       "  [['positive', 0.28107449412345886],\n",
       "   ['negative', 0.6973143219947815],\n",
       "   ['neutral', 0.021611185744404793]],\n",
       "  [['positive', 0.0007139815716072917],\n",
       "   ['negative', 0.2380208820104599],\n",
       "   ['neutral', 0.761265218257904]],\n",
       "  [['positive', 0.9703390002250671],\n",
       "   ['negative', 0.028706924989819527],\n",
       "   ['neutral', 0.0009540801402181387]]])"
      ]
     },
     "execution_count": 11,
     "metadata": {},
     "output_type": "execute_result"
    }
   ],
   "source": [
    "# Andere Sprachen werden falsch predictet.\n",
    "model.predict_sentiment([\"В квартире было грязно и воняло.\", \"El apartamento era muy bonito.\", \"Die Wohnung war dreckig und hat gestunken.\", \"Die Wohnung war sauber.\"], output_probabilities = True)"
   ]
  },
  {
   "cell_type": "markdown",
   "metadata": {},
   "source": [
    "# Title Sentiments"
   ]
  },
  {
   "cell_type": "code",
   "execution_count": 41,
   "metadata": {},
   "outputs": [
    {
     "name": "stdout",
     "output_type": "stream",
     "text": [
      "<class 'pandas.core.frame.DataFrame'>\n",
      "RangeIndex: 13362 entries, 0 to 13361\n",
      "Data columns (total 18 columns):\n",
      " #   Column                          Non-Null Count  Dtype  \n",
      "---  ------                          --------------  -----  \n",
      " 0   id                              13362 non-null  int64  \n",
      " 1   name                            13362 non-null  object \n",
      " 2   host_id                         13362 non-null  int64  \n",
      " 3   host_name                       13353 non-null  object \n",
      " 4   neighbourhood_group             13362 non-null  object \n",
      " 5   neighbourhood                   13362 non-null  object \n",
      " 6   latitude                        13362 non-null  float64\n",
      " 7   longitude                       13362 non-null  float64\n",
      " 8   room_type                       13362 non-null  object \n",
      " 9   price                           8400 non-null   float64\n",
      " 10  minimum_nights                  13362 non-null  int64  \n",
      " 11  number_of_reviews               13362 non-null  int64  \n",
      " 12  last_review                     10228 non-null  object \n",
      " 13  reviews_per_month               10228 non-null  float64\n",
      " 14  calculated_host_listings_count  13362 non-null  int64  \n",
      " 15  availability_365                13362 non-null  int64  \n",
      " 16  number_of_reviews_ltm           13362 non-null  int64  \n",
      " 17  license                         8397 non-null   object \n",
      "dtypes: float64(4), int64(7), object(7)\n",
      "memory usage: 1.8+ MB\n"
     ]
    }
   ],
   "source": [
    "df_airbnb = pd.read_csv('../data/airbnb/March_2024/listings.csv')\n",
    "df_airbnb.info()"
   ]
  },
  {
   "cell_type": "code",
   "execution_count": null,
   "metadata": {},
   "outputs": [],
   "source": [
    "df_airbnb[['sentiment', 'positive_sentiment', 'negative_sentiment', 'neutral_sentiment']] = df_airbnb.swifter.apply(predict_sentiments)"
   ]
  },
  {
   "cell_type": "code",
   "execution_count": 45,
   "metadata": {},
   "outputs": [],
   "source": [
    "df_airbnb[['id', 'sentiment', 'positive_sentiment', 'negative_sentiment', 'neutral_sentiment']].to_csv(\"../data/airbnb/March_2024/sentiments.csv\", index=False)"
   ]
  },
  {
   "cell_type": "markdown",
   "metadata": {},
   "source": [
    "# Review Sentiments"
   ]
  },
  {
   "cell_type": "code",
   "execution_count": 13,
   "metadata": {},
   "outputs": [
    {
     "name": "stdout",
     "output_type": "stream",
     "text": [
      "<class 'pandas.core.frame.DataFrame'>\n",
      "RangeIndex: 503153 entries, 0 to 503152\n",
      "Data columns (total 6 columns):\n",
      " #   Column         Non-Null Count   Dtype \n",
      "---  ------         --------------   ----- \n",
      " 0   listing_id     503153 non-null  int64 \n",
      " 1   id             503153 non-null  int64 \n",
      " 2   date           503153 non-null  object\n",
      " 3   reviewer_id    503153 non-null  int64 \n",
      " 4   reviewer_name  503153 non-null  object\n",
      " 5   comments       503116 non-null  object\n",
      "dtypes: int64(3), object(3)\n",
      "memory usage: 23.0+ MB\n"
     ]
    }
   ],
   "source": [
    "df_airbnb = pd.read_csv('../data/airbnb/March_2024/listings.csv')\n",
    "df_reviews = pd.read_csv('../data/airbnb/March_2024/reviews.csv')\n",
    "df_reviews.info()"
   ]
  },
  {
   "cell_type": "code",
   "execution_count": 12,
   "metadata": {},
   "outputs": [],
   "source": [
    "filtered_reviews = df_reviews[df_reviews['listing_id'].isin(df_airbnb['id'])]\n",
    "filtered_reviews = filtered_reviews.dropna(subset=[\"comments\"])\n",
    "filtered_reviews['language'] = filtered_reviews['comments'].apply(detect_language)\n",
    "filtered_reviews = filtered_reviews[filtered_reviews['language'].isin(['de', 'en'])]"
   ]
  },
  {
   "cell_type": "code",
   "execution_count": null,
   "metadata": {},
   "outputs": [],
   "source": [
    "filtered_reviews[['sentiment', 'positive_sentiment', 'negative_sentiment', 'neutral_sentiment']] = filtered_reviews.apply(predict_sentiments)"
   ]
  },
  {
   "cell_type": "code",
   "execution_count": null,
   "metadata": {},
   "outputs": [],
   "source": [
    "filtered_reviews[['id', 'sentiment', 'positive_sentiment', 'negative_sentiment', 'neutral_sentiment', 'date', 'listing_id', 'language']].to_csv(\"../data/airbnb/review_sentiments.csv\", index=False)"
   ]
  },
  {
   "cell_type": "code",
   "execution_count": 3,
   "metadata": {},
   "outputs": [
    {
     "data": {
      "text/html": [
       "<div>\n",
       "<style scoped>\n",
       "    .dataframe tbody tr th:only-of-type {\n",
       "        vertical-align: middle;\n",
       "    }\n",
       "\n",
       "    .dataframe tbody tr th {\n",
       "        vertical-align: top;\n",
       "    }\n",
       "\n",
       "    .dataframe thead th {\n",
       "        text-align: right;\n",
       "    }\n",
       "</style>\n",
       "<table border=\"1\" class=\"dataframe\">\n",
       "  <thead>\n",
       "    <tr style=\"text-align: right;\">\n",
       "      <th></th>\n",
       "      <th>id</th>\n",
       "      <th>sentiment</th>\n",
       "      <th>positive_sentiment</th>\n",
       "      <th>negative_sentiment</th>\n",
       "      <th>neutral_sentiment</th>\n",
       "      <th>date</th>\n",
       "      <th>listing_id</th>\n",
       "      <th>language</th>\n",
       "    </tr>\n",
       "  </thead>\n",
       "  <tbody>\n",
       "    <tr>\n",
       "      <th>0</th>\n",
       "      <td>4283</td>\n",
       "      <td>positive</td>\n",
       "      <td>0.991684</td>\n",
       "      <td>0.008207</td>\n",
       "      <td>0.000109</td>\n",
       "      <td>2009-06-20</td>\n",
       "      <td>3176</td>\n",
       "      <td>en</td>\n",
       "    </tr>\n",
       "    <tr>\n",
       "      <th>1</th>\n",
       "      <td>14159242</td>\n",
       "      <td>positive</td>\n",
       "      <td>0.999650</td>\n",
       "      <td>0.000340</td>\n",
       "      <td>0.000009</td>\n",
       "      <td>2014-06-13</td>\n",
       "      <td>265408</td>\n",
       "      <td>de</td>\n",
       "    </tr>\n",
       "    <tr>\n",
       "      <th>2</th>\n",
       "      <td>27230771</td>\n",
       "      <td>negative</td>\n",
       "      <td>0.051247</td>\n",
       "      <td>0.948726</td>\n",
       "      <td>0.000027</td>\n",
       "      <td>2015-02-28</td>\n",
       "      <td>265408</td>\n",
       "      <td>en</td>\n",
       "    </tr>\n",
       "    <tr>\n",
       "      <th>3</th>\n",
       "      <td>134722</td>\n",
       "      <td>positive</td>\n",
       "      <td>0.987947</td>\n",
       "      <td>0.011883</td>\n",
       "      <td>0.000169</td>\n",
       "      <td>2010-11-07</td>\n",
       "      <td>3176</td>\n",
       "      <td>en</td>\n",
       "    </tr>\n",
       "    <tr>\n",
       "      <th>4</th>\n",
       "      <td>144064</td>\n",
       "      <td>neutral</td>\n",
       "      <td>0.001159</td>\n",
       "      <td>0.002875</td>\n",
       "      <td>0.995966</td>\n",
       "      <td>2010-11-24</td>\n",
       "      <td>3176</td>\n",
       "      <td>en</td>\n",
       "    </tr>\n",
       "  </tbody>\n",
       "</table>\n",
       "</div>"
      ],
      "text/plain": [
       "         id sentiment  positive_sentiment  negative_sentiment  \\\n",
       "0      4283  positive            0.991684            0.008207   \n",
       "1  14159242  positive            0.999650            0.000340   \n",
       "2  27230771  negative            0.051247            0.948726   \n",
       "3    134722  positive            0.987947            0.011883   \n",
       "4    144064   neutral            0.001159            0.002875   \n",
       "\n",
       "   neutral_sentiment        date  listing_id language  \n",
       "0           0.000109  2009-06-20        3176       en  \n",
       "1           0.000009  2014-06-13      265408       de  \n",
       "2           0.000027  2015-02-28      265408       en  \n",
       "3           0.000169  2010-11-07        3176       en  \n",
       "4           0.995966  2010-11-24        3176       en  "
      ]
     },
     "execution_count": 3,
     "metadata": {},
     "output_type": "execute_result"
    }
   ],
   "source": [
    "df_review_sentiments = pd.read_csv('../data/airbnb/review_sentiments.csv')\n",
    "df_review_sentiments.head(5)"
   ]
  }
 ],
 "metadata": {
  "kernelspec": {
   "display_name": ".venv",
   "language": "python",
   "name": "python3"
  },
  "language_info": {
   "codemirror_mode": {
    "name": "ipython",
    "version": 3
   },
   "file_extension": ".py",
   "mimetype": "text/x-python",
   "name": "python",
   "nbconvert_exporter": "python",
   "pygments_lexer": "ipython3",
   "version": "3.11.3"
  }
 },
 "nbformat": 4,
 "nbformat_minor": 2
}
